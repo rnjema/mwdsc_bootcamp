{
 "cells": [
  {
   "cell_type": "markdown",
   "metadata": {},
   "source": [
    "$\\Large \\text{Web Scraping for Data Science - Ralph Tambala}$"
   ]
  },
  {
   "cell_type": "markdown",
   "metadata": {
    "heading_collapsed": true
   },
   "source": [
    "## What is Web Scraping?"
   ]
  },
  {
   "cell_type": "markdown",
   "metadata": {
    "hidden": true
   },
   "source": [
    "Web scraping is a process of automating the extraction of data in an efficient and fast way from the web. With the help of web scraping, you can extract data from any website, no matter how large is the data, on your computer.\n",
    "\n",
    "On the other hand, APIs give you direct access to the data you want."
   ]
  },
  {
   "cell_type": "markdown",
   "metadata": {
    "heading_collapsed": true
   },
   "source": [
    "## Why Web Scraping?"
   ]
  },
  {
   "cell_type": "markdown",
   "metadata": {
    "hidden": true
   },
   "source": [
    "**Cost-effective**\n",
    "\n",
    "Web scraping services provide an essential service at a competitive cost. The data will have to be collected back from websites and analyzed so that the internet functions regularly.\n",
    "\n",
    "**Data accuracy**\n",
    "\n",
    "Simple errors in data extraction can lead to major issues. Hence it is needed to ensure that the data is correct. Data scraping is not only a fast process, but its accurate too.\n",
    "\n",
    "**Easy to implement**\n",
    "\n",
    "Once a website scraping service starts collecting data, you can rest assured that you are getting data from not just a single page but from the whole domain. With a one time investment, it can have a high volume of data."
   ]
  },
  {
   "cell_type": "markdown",
   "metadata": {
    "heading_collapsed": true
   },
   "source": [
    "## Challenges of Web Scraping"
   ]
  },
  {
   "cell_type": "markdown",
   "metadata": {
    "hidden": true
   },
   "source": [
    "**Data analysis of data retrieved**\n",
    "\n",
    "Data need to be treated first, before it can be analysed. This often becomes a time-consuming work.\n",
    "\n",
    "**Difficult to analyze**\n",
    "\n",
    "For those who are not much into programming, web scrapers can be confusing.\n",
    "\n",
    "**Speed and protection policies**\n",
    "\n",
    "Most of the web scraping services are slower than API calls. Also many websites do not allow screen scraping. Also, if any code of the target website gets changed, web scrapers stops capture the data."
   ]
  },
  {
   "cell_type": "markdown",
   "metadata": {
    "heading_collapsed": true
   },
   "source": [
    "## HTML Basics"
   ]
  },
  {
   "cell_type": "markdown",
   "metadata": {
    "hidden": true
   },
   "source": [
    "Hypertext Markup Language, a standardized system for tagging text files to achieve font, colour, graphic, and hyperlink effects on World Wide Web pages.\n",
    "\n",
    "I have provided a sample HTML file for a quick summary of what HTML is."
   ]
  },
  {
   "cell_type": "markdown",
   "metadata": {
    "heading_collapsed": true
   },
   "source": [
    "## Steps Involved in Web Scraping"
   ]
  },
  {
   "cell_type": "markdown",
   "metadata": {
    "hidden": true
   },
   "source": [
    "1. Install 3rd party libraries\n",
    "2. Access the HTML content from webpage\n",
    "3. Parse the HTML content\n",
    "4. Prepare for your data science project\n",
    "5. Data cleaning\n",
    "5. Save data"
   ]
  },
  {
   "cell_type": "markdown",
   "metadata": {
    "heading_collapsed": true,
    "hidden": true
   },
   "source": [
    "### Step 1: Install the required libraries"
   ]
  },
  {
   "cell_type": "markdown",
   "metadata": {
    "hidden": true
   },
   "source": [
    "We will install the following libraries:\n",
    "- <code>requests</code>: allows us to send HTTP/1.1 requests using Python.\n",
    "- <code>html5lib</code>: it is a pure-python library for parsing HTML. It is designed to conform to the WHATWG HTML specification, as is implemented by all major web browsers. *(The Web Hypertext Application Technology Working Group (WHATWG) is a community of people interested in evolving HTML and related technologies. The WHATWG was founded by individuals from Apple Inc., the Mozilla Foundation and Opera Software, leading Web browser vendors, in 2004.)*\n",
    "- <code>bs4</code>: bs4 is an acronym for Beautiful Soup. Beautiful Soup is a library for parsing HTML and XML documents (including having malformed markup, i.e. non-closed tags). It creates a parse tree for parsed pages that can be used to extract data from HTML.\n",
    "\n",
    "These libraries can be installed using pip as shown below or one can manually and install them using links above\n",
    "\n",
    "    pip install requests\n",
    "    pip install html5lib # lxml, bleach, etc\n",
    "    pip install bs4"
   ]
  },
  {
   "cell_type": "markdown",
   "metadata": {
    "heading_collapsed": true,
    "hidden": true
   },
   "source": [
    "### Step 2: Import all the required libraries"
   ]
  },
  {
   "cell_type": "code",
   "execution_count": null,
   "metadata": {
    "hidden": true
   },
   "outputs": [],
   "source": [
    "import requests\n",
    "import html5lib\n",
    "from bs4 import BeautifulSoup"
   ]
  },
  {
   "cell_type": "markdown",
   "metadata": {
    "heading_collapsed": true,
    "hidden": true
   },
   "source": [
    "### Step 3: Accessing the HTML content from webpage"
   ]
  },
  {
   "cell_type": "markdown",
   "metadata": {
    "hidden": true
   },
   "source": [
    "1. Specify the URL of the webpage\n",
    "2. Send a HTTP request to the specified URL and save the response from server\n",
    "3. Check if response is OK - 200\n",
    "4. If OK, then print raw content of the webpage"
   ]
  },
  {
   "cell_type": "code",
   "execution_count": null,
   "metadata": {
    "hidden": true
   },
   "outputs": [],
   "source": [
    "# here's the URL of interest\n",
    "url = \"https://en.wikipedia.org/wiki/Template:COVID-19_pandemic_data/Malawi_medical_cases_chart\"\n",
    "# we use get to send the requests and stores the result\n",
    "response = requests.get(url)\n",
    "# now we check if the webpage was returned successfully\n",
    "print(response.status_code)"
   ]
  },
  {
   "cell_type": "markdown",
   "metadata": {
    "hidden": true
   },
   "source": [
    "**Status codes**\n",
    "- 200: The HTTP 200 *OK success* status response code indicates that the request has succeeded.\n",
    "- 404: The HTTP 404, 404 not found, 404, 404 error, *page not found* or file not found error message is a hypertext transfer protocol (HTTP) standard response code, in computer network communications, to indicate that the browser was able to communicate with a given server, but the server could not find what was requested.\n",
    "- 400: The HTTP 400 *Bad Request response* status code indicates that the server cannot or will not process the request due to something that is perceived to be a client error "
   ]
  },
  {
   "cell_type": "markdown",
   "metadata": {
    "hidden": true
   },
   "source": [
    "Now, let's view the content."
   ]
  },
  {
   "cell_type": "code",
   "execution_count": null,
   "metadata": {
    "hidden": true
   },
   "outputs": [],
   "source": [
    "# let's print the raw HTML content\n",
    "print(response.text)"
   ]
  },
  {
   "cell_type": "markdown",
   "metadata": {
    "heading_collapsed": true,
    "hidden": true
   },
   "source": [
    "### Step 3: Parse the HTML content"
   ]
  },
  {
   "cell_type": "markdown",
   "metadata": {
    "hidden": true
   },
   "source": [
    "We create a Beautiful Soup object to represent the parsed document as a whole. For most purposes, you can treat it as a Tag object. This means it supports most of the methods described in Navigating the tree and Searching the HTML tree.\n",
    "\n",
    "A BeautifulSoup object can be created by passing two arguments:\n",
    "- <code>response.text</code>: It is the raw HTML content\n",
    "- <code>html5lib</code>: It is a pure-python library for parsing HTML\n",
    "\n",
    "<code>soup.prettify()</code> is used to get the visual representation of the parse tree."
   ]
  },
  {
   "cell_type": "code",
   "execution_count": null,
   "metadata": {
    "hidden": true
   },
   "outputs": [],
   "source": [
    "soup = BeautifulSoup(response.text, 'html5lib')\n",
    "print(soup.prettify())"
   ]
  },
  {
   "cell_type": "markdown",
   "metadata": {
    "heading_collapsed": true,
    "hidden": true
   },
   "source": [
    "### Step 4: Searching and navigating through the parse tree"
   ]
  },
  {
   "cell_type": "markdown",
   "metadata": {
    "hidden": true
   },
   "source": [
    "To extract the data of interest to us we will need to navigate through the nested structure."
   ]
  },
  {
   "cell_type": "code",
   "execution_count": null,
   "metadata": {
    "hidden": true
   },
   "outputs": [],
   "source": [
    "# use find() to capture first tr with \n",
    "block = soup.find('tr', class_ = 'mw-collapsible')\n",
    "block"
   ]
  },
  {
   "cell_type": "code",
   "execution_count": null,
   "metadata": {
    "hidden": true,
    "scrolled": true
   },
   "outputs": [],
   "source": [
    "# capture all p with class class course-listing-title\n",
    "table = soup.find_all('tr', class_ = 'mw-collapsible')\n",
    "table"
   ]
  },
  {
   "cell_type": "code",
   "execution_count": null,
   "metadata": {
    "hidden": true
   },
   "outputs": [],
   "source": [
    "\n",
    "for item in table:\n",
    "    key = item.find('td', {'class':'bb-c', 'colspan':'2'}).text\n",
    "    print(key)"
   ]
  },
  {
   "cell_type": "code",
   "execution_count": null,
   "metadata": {
    "hidden": true
   },
   "outputs": [],
   "source": [
    "\n",
    "for item in table:\n",
    "    key = item.find('td', {'class':'bb-c', 'colspan':'2'}).text\n",
    "    total_cases = item.find('span', {'class':'mcc-rw'}).text\n",
    "    print('Date: {}\\t\\tTotal Cases: {}'.format(key, total_cases))"
   ]
  },
  {
   "cell_type": "code",
   "execution_count": null,
   "metadata": {
    "hidden": true
   },
   "outputs": [],
   "source": [
    "dates = []\n",
    "cases = []\n",
    "deaths = []\n",
    "for item in table:\n",
    "    date = item.find('td', {'class':'bb-c', 'colspan':'2'}).text\n",
    "\n",
    "    cases_and_deaths = item.find_all('span', {'class':'mcc-rw'})\n",
    "    if len(cases_and_deaths) == 2:\n",
    "        total_cases = cases_and_deaths[0].text\n",
    "        total_deaths = cases_and_deaths[1].text\n",
    "    else:\n",
    "        total_cases = cases_and_deaths[0].text\n",
    "        total_deaths = 0\n",
    "    \n",
    "    dates.append(date)\n",
    "    cases.append(total_cases)\n",
    "    deaths.append(total_deaths)\n",
    "    #print('Date: {}\\t\\tTotal Cases: {}\\t\\t Deaths: {}'.format(date, total_cases, total_deaths))"
   ]
  },
  {
   "cell_type": "markdown",
   "metadata": {
    "heading_collapsed": true,
    "hidden": true
   },
   "source": [
    "### Step 5: Data cleaning"
   ]
  },
  {
   "cell_type": "code",
   "execution_count": null,
   "metadata": {
    "hidden": true
   },
   "outputs": [],
   "source": [
    "cleaned_total_cases = []\n",
    "for item in cases:\n",
    "    cleaned_total_cases.append(int(str(item).replace(',','')))\n",
    "    \n",
    "cleaned_total_deaths = []\n",
    "for item in deaths:\n",
    "    cleaned_total_deaths.append(int(str(item).replace(',','')))"
   ]
  },
  {
   "cell_type": "code",
   "execution_count": null,
   "metadata": {
    "hidden": true
   },
   "outputs": [],
   "source": [
    "import pandas as pd "
   ]
  },
  {
   "cell_type": "code",
   "execution_count": null,
   "metadata": {
    "hidden": true
   },
   "outputs": [],
   "source": [
    "df = pd.DataFrame({'Date':pd.Series(dates), 'Total Cases':pd.Series(cleaned_total_cases), 'Total Deaths':pd.Series(cleaned_total_deaths)})\n",
    "df.head()"
   ]
  },
  {
   "cell_type": "code",
   "execution_count": null,
   "metadata": {
    "hidden": true
   },
   "outputs": [],
   "source": [
    "df.shape"
   ]
  },
  {
   "cell_type": "code",
   "execution_count": null,
   "metadata": {
    "hidden": true
   },
   "outputs": [],
   "source": [
    "df[df['Date'] == '⋮'].count()"
   ]
  },
  {
   "cell_type": "code",
   "execution_count": null,
   "metadata": {
    "hidden": true
   },
   "outputs": [],
   "source": [
    "df[df['Date'] == '⋮']"
   ]
  },
  {
   "cell_type": "code",
   "execution_count": null,
   "metadata": {
    "hidden": true
   },
   "outputs": [],
   "source": [
    "missing_dates = df.index[df['Date'] == '⋮'].to_list()"
   ]
  },
  {
   "cell_type": "code",
   "execution_count": null,
   "metadata": {
    "hidden": true
   },
   "outputs": [],
   "source": [
    "df.drop(index=missing_dates, inplace=True)"
   ]
  },
  {
   "cell_type": "code",
   "execution_count": null,
   "metadata": {
    "hidden": true
   },
   "outputs": [],
   "source": [
    "df.shape"
   ]
  },
  {
   "cell_type": "code",
   "execution_count": 25,
   "metadata": {
    "hidden": true
   },
   "outputs": [],
   "source": [
    "df['Date'] = pd.to_datetime(df['Date'])"
   ]
  },
  {
   "cell_type": "code",
   "execution_count": null,
   "metadata": {
    "hidden": true
   },
   "outputs": [],
   "source": [
    "df"
   ]
  },
  {
   "cell_type": "markdown",
   "metadata": {
    "hidden": true
   },
   "source": [
    "We will do some simple visualizations just to appreciate what we have achieved so far!"
   ]
  },
  {
   "cell_type": "code",
   "execution_count": 24,
   "metadata": {
    "hidden": true
   },
   "outputs": [],
   "source": [
    "import pandas as pd\n",
    "import altair as alt"
   ]
  },
  {
   "cell_type": "code",
   "execution_count": 23,
   "metadata": {
    "hidden": true
   },
   "outputs": [
    {
     "name": "stdout",
     "output_type": "stream",
     "text": [
      "Object `diff` not found.\n"
     ]
    }
   ],
   "source": [
    "df['Date'].diff?"
   ]
  },
  {
   "cell_type": "code",
   "execution_count": null,
   "metadata": {},
   "outputs": [],
   "source": [
    "df['Date'].diff"
   ]
  },
  {
   "cell_type": "code",
   "execution_count": 26,
   "metadata": {
    "hidden": true
   },
   "outputs": [],
   "source": [
    "base = alt.Chart(df[:120]).mark_bar().encode(\n",
    "    x='monthdate(Date):O',\n",
    ").properties(\n",
    "    width=420,\n",
    "    height=200\n",
    ")"
   ]
  },
  {
   "cell_type": "code",
   "execution_count": 27,
   "metadata": {
    "hidden": true
   },
   "outputs": [
    {
     "data": {
      "text/html": [
       "\n",
       "<div id=\"altair-viz-f55eb57a2cd74484a0b87c1871bfd2d9\"></div>\n",
       "<script type=\"text/javascript\">\n",
       "  (function(spec, embedOpt){\n",
       "    let outputDiv = document.currentScript.previousElementSibling;\n",
       "    if (outputDiv.id !== \"altair-viz-f55eb57a2cd74484a0b87c1871bfd2d9\") {\n",
       "      outputDiv = document.getElementById(\"altair-viz-f55eb57a2cd74484a0b87c1871bfd2d9\");\n",
       "    }\n",
       "    const paths = {\n",
       "      \"vega\": \"https://cdn.jsdelivr.net/npm//vega@5?noext\",\n",
       "      \"vega-lib\": \"https://cdn.jsdelivr.net/npm//vega-lib?noext\",\n",
       "      \"vega-lite\": \"https://cdn.jsdelivr.net/npm//vega-lite@4.8.1?noext\",\n",
       "      \"vega-embed\": \"https://cdn.jsdelivr.net/npm//vega-embed@6?noext\",\n",
       "    };\n",
       "\n",
       "    function loadScript(lib) {\n",
       "      return new Promise(function(resolve, reject) {\n",
       "        var s = document.createElement('script');\n",
       "        s.src = paths[lib];\n",
       "        s.async = true;\n",
       "        s.onload = () => resolve(paths[lib]);\n",
       "        s.onerror = () => reject(`Error loading script: ${paths[lib]}`);\n",
       "        document.getElementsByTagName(\"head\")[0].appendChild(s);\n",
       "      });\n",
       "    }\n",
       "\n",
       "    function showError(err) {\n",
       "      outputDiv.innerHTML = `<div class=\"error\" style=\"color:red;\">${err}</div>`;\n",
       "      throw err;\n",
       "    }\n",
       "\n",
       "    function displayChart(vegaEmbed) {\n",
       "      vegaEmbed(outputDiv, spec, embedOpt)\n",
       "        .catch(err => showError(`Javascript Error: ${err.message}<br>This usually means there's a typo in your chart specification. See the javascript console for the full traceback.`));\n",
       "    }\n",
       "\n",
       "    if(typeof define === \"function\" && define.amd) {\n",
       "      requirejs.config({paths});\n",
       "      require([\"vega-embed\"], displayChart, err => showError(`Error loading script: ${err.message}`));\n",
       "    } else if (typeof vegaEmbed === \"function\") {\n",
       "      displayChart(vegaEmbed);\n",
       "    } else {\n",
       "      loadScript(\"vega\")\n",
       "        .then(() => loadScript(\"vega-lite\"))\n",
       "        .then(() => loadScript(\"vega-embed\"))\n",
       "        .catch(showError)\n",
       "        .then(() => displayChart(vegaEmbed));\n",
       "    }\n",
       "  })({\"config\": {\"view\": {\"continuousWidth\": 400, \"continuousHeight\": 300}}, \"hconcat\": [{\"mark\": \"bar\", \"encoding\": {\"x\": {\"type\": \"ordinal\", \"field\": \"Date\", \"timeUnit\": \"monthdate\"}, \"y\": {\"type\": \"quantitative\", \"field\": \"Total Cases\"}}, \"height\": 200, \"title\": \"Total Confirmed\", \"width\": 420}, {\"mark\": \"bar\", \"encoding\": {\"color\": {\"value\": \"#f54242\"}, \"x\": {\"type\": \"ordinal\", \"field\": \"Date\", \"timeUnit\": \"monthdate\"}, \"y\": {\"type\": \"quantitative\", \"field\": \"Total Deaths\"}}, \"height\": 200, \"title\": \"Total deaths\", \"width\": 420}], \"data\": {\"name\": \"data-14a928f4c1b6f940d6d5124bd5c3c8e7\"}, \"$schema\": \"https://vega.github.io/schema/vega-lite/v4.8.1.json\", \"datasets\": {\"data-14a928f4c1b6f940d6d5124bd5c3c8e7\": [{\"Date\": \"2020-04-02T00:00:00\", \"Total Cases\": 3, \"Total Deaths\": 0}, {\"Date\": \"2020-04-03T00:00:00\", \"Total Cases\": 4, \"Total Deaths\": 0}, {\"Date\": \"2020-04-04T00:00:00\", \"Total Cases\": 4, \"Total Deaths\": 0}, {\"Date\": \"2020-04-05T00:00:00\", \"Total Cases\": 5, \"Total Deaths\": 0}, {\"Date\": \"2020-04-06T00:00:00\", \"Total Cases\": 8, \"Total Deaths\": 0}, {\"Date\": \"2020-04-07T00:00:00\", \"Total Cases\": 8, \"Total Deaths\": 1}, {\"Date\": \"2020-04-08T00:00:00\", \"Total Cases\": 8, \"Total Deaths\": 1}, {\"Date\": \"2020-04-09T00:00:00\", \"Total Cases\": 9, \"Total Deaths\": 1}, {\"Date\": \"2020-04-10T00:00:00\", \"Total Cases\": 12, \"Total Deaths\": 1}, {\"Date\": \"2020-04-11T00:00:00\", \"Total Cases\": 13, \"Total Deaths\": 2}, {\"Date\": \"2020-04-12T00:00:00\", \"Total Cases\": 13, \"Total Deaths\": 2}, {\"Date\": \"2020-04-13T00:00:00\", \"Total Cases\": 16, \"Total Deaths\": 2}, {\"Date\": \"2020-04-17T00:00:00\", \"Total Cases\": 17, \"Total Deaths\": 2}, {\"Date\": \"2020-04-18T00:00:00\", \"Total Cases\": 17, \"Total Deaths\": 2}, {\"Date\": \"2020-04-22T00:00:00\", \"Total Cases\": 23, \"Total Deaths\": 2}, {\"Date\": \"2020-04-23T00:00:00\", \"Total Cases\": 33, \"Total Deaths\": 3}, {\"Date\": \"2020-04-26T00:00:00\", \"Total Cases\": 34, \"Total Deaths\": 3}, {\"Date\": \"2020-04-27T00:00:00\", \"Total Cases\": 36, \"Total Deaths\": 3}, {\"Date\": \"2020-04-28T00:00:00\", \"Total Cases\": 36, \"Total Deaths\": 3}, {\"Date\": \"2020-04-29T00:00:00\", \"Total Cases\": 36, \"Total Deaths\": 3}, {\"Date\": \"2020-04-30T00:00:00\", \"Total Cases\": 37, \"Total Deaths\": 3}, {\"Date\": \"2020-05-01T00:00:00\", \"Total Cases\": 37, \"Total Deaths\": 3}, {\"Date\": \"2020-05-02T00:00:00\", \"Total Cases\": 38, \"Total Deaths\": 3}, {\"Date\": \"2020-05-03T00:00:00\", \"Total Cases\": 39, \"Total Deaths\": 3}, {\"Date\": \"2020-05-04T00:00:00\", \"Total Cases\": 41, \"Total Deaths\": 3}, {\"Date\": \"2020-05-05T00:00:00\", \"Total Cases\": 41, \"Total Deaths\": 3}, {\"Date\": \"2020-05-06T00:00:00\", \"Total Cases\": 43, \"Total Deaths\": 3}, {\"Date\": \"2020-05-07T00:00:00\", \"Total Cases\": 43, \"Total Deaths\": 3}, {\"Date\": \"2020-05-08T00:00:00\", \"Total Cases\": 43, \"Total Deaths\": 3}, {\"Date\": \"2020-05-09T00:00:00\", \"Total Cases\": 56, \"Total Deaths\": 3}, {\"Date\": \"2020-05-10T00:00:00\", \"Total Cases\": 56, \"Total Deaths\": 3}, {\"Date\": \"2020-05-11T00:00:00\", \"Total Cases\": 57, \"Total Deaths\": 3}, {\"Date\": \"2020-05-12T00:00:00\", \"Total Cases\": 57, \"Total Deaths\": 3}, {\"Date\": \"2020-05-13T00:00:00\", \"Total Cases\": 63, \"Total Deaths\": 3}, {\"Date\": \"2020-05-17T00:00:00\", \"Total Cases\": 70, \"Total Deaths\": 3}, {\"Date\": \"2020-05-20T00:00:00\", \"Total Cases\": 71, \"Total Deaths\": 3}, {\"Date\": \"2020-05-21T00:00:00\", \"Total Cases\": 72, \"Total Deaths\": 3}, {\"Date\": \"2020-05-22T00:00:00\", \"Total Cases\": 82, \"Total Deaths\": 3}, {\"Date\": \"2020-05-23T00:00:00\", \"Total Cases\": 82, \"Total Deaths\": 3}, {\"Date\": \"2020-05-24T00:00:00\", \"Total Cases\": 83, \"Total Deaths\": 4}, {\"Date\": \"2020-05-25T00:00:00\", \"Total Cases\": 101, \"Total Deaths\": 4}, {\"Date\": \"2020-05-26T00:00:00\", \"Total Cases\": 101, \"Total Deaths\": 4}, {\"Date\": \"2020-05-27T00:00:00\", \"Total Cases\": 101, \"Total Deaths\": 4}, {\"Date\": \"2020-05-28T00:00:00\", \"Total Cases\": 203, \"Total Deaths\": 4}, {\"Date\": \"2020-05-29T00:00:00\", \"Total Cases\": 273, \"Total Deaths\": 4}, {\"Date\": \"2020-05-30T00:00:00\", \"Total Cases\": 279, \"Total Deaths\": 4}, {\"Date\": \"2020-05-31T00:00:00\", \"Total Cases\": 284, \"Total Deaths\": 4}, {\"Date\": \"2020-06-01T00:00:00\", \"Total Cases\": 336, \"Total Deaths\": 4}, {\"Date\": \"2020-06-02T00:00:00\", \"Total Cases\": 358, \"Total Deaths\": 4}, {\"Date\": \"2020-06-03T00:00:00\", \"Total Cases\": 369, \"Total Deaths\": 4}, {\"Date\": \"2020-06-04T00:00:00\", \"Total Cases\": 393, \"Total Deaths\": 4}, {\"Date\": \"2020-06-05T00:00:00\", \"Total Cases\": 409, \"Total Deaths\": 4}, {\"Date\": \"2020-06-06T00:00:00\", \"Total Cases\": 409, \"Total Deaths\": 4}, {\"Date\": \"2020-06-07T00:00:00\", \"Total Cases\": 438, \"Total Deaths\": 4}, {\"Date\": \"2020-06-08T00:00:00\", \"Total Cases\": 438, \"Total Deaths\": 4}, {\"Date\": \"2020-06-09T00:00:00\", \"Total Cases\": 443, \"Total Deaths\": 4}, {\"Date\": \"2020-06-10T00:00:00\", \"Total Cases\": 455, \"Total Deaths\": 4}, {\"Date\": \"2020-06-11T00:00:00\", \"Total Cases\": 481, \"Total Deaths\": 4}, {\"Date\": \"2020-06-12T00:00:00\", \"Total Cases\": 481, \"Total Deaths\": 4}, {\"Date\": \"2020-06-13T00:00:00\", \"Total Cases\": 529, \"Total Deaths\": 5}, {\"Date\": \"2020-06-14T00:00:00\", \"Total Cases\": 547, \"Total Deaths\": 6}, {\"Date\": \"2020-06-15T00:00:00\", \"Total Cases\": 555, \"Total Deaths\": 6}, {\"Date\": \"2020-06-16T00:00:00\", \"Total Cases\": 564, \"Total Deaths\": 6}, {\"Date\": \"2020-06-17T00:00:00\", \"Total Cases\": 572, \"Total Deaths\": 6}, {\"Date\": \"2020-06-18T00:00:00\", \"Total Cases\": 592, \"Total Deaths\": 8}, {\"Date\": \"2020-06-19T00:00:00\", \"Total Cases\": 620, \"Total Deaths\": 8}, {\"Date\": \"2020-06-20T00:00:00\", \"Total Cases\": 730, \"Total Deaths\": 11}, {\"Date\": \"2020-06-21T00:00:00\", \"Total Cases\": 749, \"Total Deaths\": 11}, {\"Date\": \"2020-06-22T00:00:00\", \"Total Cases\": 803, \"Total Deaths\": 11}, {\"Date\": \"2020-06-23T00:00:00\", \"Total Cases\": 848, \"Total Deaths\": 11}, {\"Date\": \"2020-06-24T00:00:00\", \"Total Cases\": 941, \"Total Deaths\": 11}, {\"Date\": \"2020-06-25T00:00:00\", \"Total Cases\": 960, \"Total Deaths\": 12}, {\"Date\": \"2020-06-26T00:00:00\", \"Total Cases\": 1005, \"Total Deaths\": 13}, {\"Date\": \"2020-06-27T00:00:00\", \"Total Cases\": 1038, \"Total Deaths\": 13}, {\"Date\": \"2020-06-28T00:00:00\", \"Total Cases\": 1152, \"Total Deaths\": 13}, {\"Date\": \"2020-06-29T00:00:00\", \"Total Cases\": 1224, \"Total Deaths\": 13}, {\"Date\": \"2020-06-30T00:00:00\", \"Total Cases\": 1265, \"Total Deaths\": 16}, {\"Date\": \"2020-07-01T00:00:00\", \"Total Cases\": 1342, \"Total Deaths\": 16}, {\"Date\": \"2020-07-02T00:00:00\", \"Total Cases\": 1402, \"Total Deaths\": 16}, {\"Date\": \"2020-07-03T00:00:00\", \"Total Cases\": 1498, \"Total Deaths\": 16}, {\"Date\": \"2020-07-04T00:00:00\", \"Total Cases\": 1613, \"Total Deaths\": 17}, {\"Date\": \"2020-07-05T00:00:00\", \"Total Cases\": 1742, \"Total Deaths\": 19}, {\"Date\": \"2020-07-06T00:00:00\", \"Total Cases\": 1818, \"Total Deaths\": 19}, {\"Date\": \"2020-07-07T00:00:00\", \"Total Cases\": 1864, \"Total Deaths\": 19}, {\"Date\": \"2020-07-08T00:00:00\", \"Total Cases\": 1940, \"Total Deaths\": 19}, {\"Date\": \"2020-07-09T00:00:00\", \"Total Cases\": 1986, \"Total Deaths\": 19}, {\"Date\": \"2020-07-10T00:00:00\", \"Total Cases\": 2069, \"Total Deaths\": 31}, {\"Date\": \"2020-07-11T00:00:00\", \"Total Cases\": 2261, \"Total Deaths\": 33}, {\"Date\": \"2020-07-12T00:00:00\", \"Total Cases\": 2364, \"Total Deaths\": 38}, {\"Date\": \"2020-07-13T00:00:00\", \"Total Cases\": 2430, \"Total Deaths\": 39}, {\"Date\": \"2020-07-14T00:00:00\", \"Total Cases\": 2497, \"Total Deaths\": 40}, {\"Date\": \"2020-07-15T00:00:00\", \"Total Cases\": 2610, \"Total Deaths\": 40}, {\"Date\": \"2020-07-16T00:00:00\", \"Total Cases\": 2712, \"Total Deaths\": 51}, {\"Date\": \"2020-07-17T00:00:00\", \"Total Cases\": 2810, \"Total Deaths\": 55}, {\"Date\": \"2020-07-18T00:00:00\", \"Total Cases\": 2907, \"Total Deaths\": 59}, {\"Date\": \"2020-07-19T00:00:00\", \"Total Cases\": 2992, \"Total Deaths\": 63}, {\"Date\": \"2020-07-20T00:00:00\", \"Total Cases\": 3045, \"Total Deaths\": 67}, {\"Date\": \"2020-07-21T00:00:00\", \"Total Cases\": 3149, \"Total Deaths\": 71}, {\"Date\": \"2020-07-22T00:00:00\", \"Total Cases\": 3302, \"Total Deaths\": 76}, {\"Date\": \"2020-07-23T00:00:00\", \"Total Cases\": 3386, \"Total Deaths\": 84}, {\"Date\": \"2020-07-24T00:00:00\", \"Total Cases\": 3453, \"Total Deaths\": 86}, {\"Date\": \"2020-07-25T00:00:00\", \"Total Cases\": 3557, \"Total Deaths\": 94}, {\"Date\": \"2020-07-26T00:00:00\", \"Total Cases\": 3640, \"Total Deaths\": 99}, {\"Date\": \"2020-07-27T00:00:00\", \"Total Cases\": 3709, \"Total Deaths\": 103}, {\"Date\": \"2020-07-28T00:00:00\", \"Total Cases\": 3738, \"Total Deaths\": 103}, {\"Date\": \"2020-07-29T00:00:00\", \"Total Cases\": 3858, \"Total Deaths\": 107}, {\"Date\": \"2020-07-30T00:00:00\", \"Total Cases\": 3981, \"Total Deaths\": 109}, {\"Date\": \"2020-07-31T00:00:00\", \"Total Cases\": 4078, \"Total Deaths\": 114}, {\"Date\": \"2020-08-01T00:00:00\", \"Total Cases\": 4186, \"Total Deaths\": 120}, {\"Date\": \"2020-08-02T00:00:00\", \"Total Cases\": 4231, \"Total Deaths\": 123}, {\"Date\": \"2020-08-03T00:00:00\", \"Total Cases\": 4273, \"Total Deaths\": 123}, {\"Date\": \"2020-08-04T00:00:00\", \"Total Cases\": 4347, \"Total Deaths\": 128}, {\"Date\": \"2020-08-05T00:00:00\", \"Total Cases\": 4426, \"Total Deaths\": 136}, {\"Date\": \"2020-08-06T00:00:00\", \"Total Cases\": 4491, \"Total Deaths\": 137}, {\"Date\": \"2020-08-07T00:00:00\", \"Total Cases\": 4575, \"Total Deaths\": 137}, {\"Date\": \"2020-08-08T00:00:00\", \"Total Cases\": 4624, \"Total Deaths\": 143}, {\"Date\": \"2020-08-09T00:00:00\", \"Total Cases\": 4658, \"Total Deaths\": 146}, {\"Date\": \"2020-08-10T00:00:00\", \"Total Cases\": 4674, \"Total Deaths\": 146}, {\"Date\": \"2020-08-11T00:00:00\", \"Total Cases\": 4714, \"Total Deaths\": 152}, {\"Date\": \"2020-08-12T00:00:00\", \"Total Cases\": 4752, \"Total Deaths\": 152}]}}, {\"mode\": \"vega-lite\"});\n",
       "</script>"
      ],
      "text/plain": [
       "alt.HConcatChart(...)"
      ]
     },
     "execution_count": 27,
     "metadata": {},
     "output_type": "execute_result"
    }
   ],
   "source": [
    "red = alt.value('#f54242')\n",
    "base.encode(y='Total Cases').properties(title='Total Confirmed') | base.encode(color=red, y='Total Deaths').properties(title='Total deaths') "
   ]
  },
  {
   "cell_type": "markdown",
   "metadata": {
    "hidden": true
   },
   "source": [
    "We will add some new columns that may be useful. In this case, new cases confirmed and new deaths."
   ]
  },
  {
   "cell_type": "code",
   "execution_count": 28,
   "metadata": {
    "hidden": true
   },
   "outputs": [],
   "source": [
    "df['New Cases'] = df['Total Cases'] - df['Total Cases'].shift(1).fillna(0).astype(int)"
   ]
  },
  {
   "cell_type": "code",
   "execution_count": 29,
   "metadata": {
    "hidden": true
   },
   "outputs": [],
   "source": [
    "df['New Deaths'] = df['Total Deaths'] - df['Total Deaths'].shift(1).fillna(0).astype(int)"
   ]
  },
  {
   "cell_type": "code",
   "execution_count": 30,
   "metadata": {
    "hidden": true
   },
   "outputs": [
    {
     "data": {
      "text/html": [
       "<div>\n",
       "<style scoped>\n",
       "    .dataframe tbody tr th:only-of-type {\n",
       "        vertical-align: middle;\n",
       "    }\n",
       "\n",
       "    .dataframe tbody tr th {\n",
       "        vertical-align: top;\n",
       "    }\n",
       "\n",
       "    .dataframe thead th {\n",
       "        text-align: right;\n",
       "    }\n",
       "</style>\n",
       "<table border=\"1\" class=\"dataframe\">\n",
       "  <thead>\n",
       "    <tr style=\"text-align: right;\">\n",
       "      <th></th>\n",
       "      <th>Date</th>\n",
       "      <th>Total Cases</th>\n",
       "      <th>Total Deaths</th>\n",
       "      <th>New Cases</th>\n",
       "      <th>New Deaths</th>\n",
       "    </tr>\n",
       "  </thead>\n",
       "  <tbody>\n",
       "    <tr>\n",
       "      <th>0</th>\n",
       "      <td>2020-04-02</td>\n",
       "      <td>3</td>\n",
       "      <td>0</td>\n",
       "      <td>3</td>\n",
       "      <td>0</td>\n",
       "    </tr>\n",
       "    <tr>\n",
       "      <th>1</th>\n",
       "      <td>2020-04-03</td>\n",
       "      <td>4</td>\n",
       "      <td>0</td>\n",
       "      <td>1</td>\n",
       "      <td>0</td>\n",
       "    </tr>\n",
       "    <tr>\n",
       "      <th>2</th>\n",
       "      <td>2020-04-04</td>\n",
       "      <td>4</td>\n",
       "      <td>0</td>\n",
       "      <td>0</td>\n",
       "      <td>0</td>\n",
       "    </tr>\n",
       "    <tr>\n",
       "      <th>3</th>\n",
       "      <td>2020-04-05</td>\n",
       "      <td>5</td>\n",
       "      <td>0</td>\n",
       "      <td>1</td>\n",
       "      <td>0</td>\n",
       "    </tr>\n",
       "    <tr>\n",
       "      <th>4</th>\n",
       "      <td>2020-04-06</td>\n",
       "      <td>8</td>\n",
       "      <td>0</td>\n",
       "      <td>3</td>\n",
       "      <td>0</td>\n",
       "    </tr>\n",
       "    <tr>\n",
       "      <th>5</th>\n",
       "      <td>2020-04-07</td>\n",
       "      <td>8</td>\n",
       "      <td>1</td>\n",
       "      <td>0</td>\n",
       "      <td>1</td>\n",
       "    </tr>\n",
       "    <tr>\n",
       "      <th>6</th>\n",
       "      <td>2020-04-08</td>\n",
       "      <td>8</td>\n",
       "      <td>1</td>\n",
       "      <td>0</td>\n",
       "      <td>0</td>\n",
       "    </tr>\n",
       "    <tr>\n",
       "      <th>7</th>\n",
       "      <td>2020-04-09</td>\n",
       "      <td>9</td>\n",
       "      <td>1</td>\n",
       "      <td>1</td>\n",
       "      <td>0</td>\n",
       "    </tr>\n",
       "    <tr>\n",
       "      <th>8</th>\n",
       "      <td>2020-04-10</td>\n",
       "      <td>12</td>\n",
       "      <td>1</td>\n",
       "      <td>3</td>\n",
       "      <td>0</td>\n",
       "    </tr>\n",
       "    <tr>\n",
       "      <th>9</th>\n",
       "      <td>2020-04-11</td>\n",
       "      <td>13</td>\n",
       "      <td>2</td>\n",
       "      <td>1</td>\n",
       "      <td>1</td>\n",
       "    </tr>\n",
       "  </tbody>\n",
       "</table>\n",
       "</div>"
      ],
      "text/plain": [
       "        Date  Total Cases  Total Deaths  New Cases  New Deaths\n",
       "0 2020-04-02            3             0          3           0\n",
       "1 2020-04-03            4             0          1           0\n",
       "2 2020-04-04            4             0          0           0\n",
       "3 2020-04-05            5             0          1           0\n",
       "4 2020-04-06            8             0          3           0\n",
       "5 2020-04-07            8             1          0           1\n",
       "6 2020-04-08            8             1          0           0\n",
       "7 2020-04-09            9             1          1           0\n",
       "8 2020-04-10           12             1          3           0\n",
       "9 2020-04-11           13             2          1           1"
      ]
     },
     "execution_count": 30,
     "metadata": {},
     "output_type": "execute_result"
    }
   ],
   "source": [
    "df.head(10)"
   ]
  },
  {
   "cell_type": "code",
   "execution_count": 31,
   "metadata": {
    "hidden": true
   },
   "outputs": [
    {
     "data": {
      "text/html": [
       "<div>\n",
       "<style scoped>\n",
       "    .dataframe tbody tr th:only-of-type {\n",
       "        vertical-align: middle;\n",
       "    }\n",
       "\n",
       "    .dataframe tbody tr th {\n",
       "        vertical-align: top;\n",
       "    }\n",
       "\n",
       "    .dataframe thead th {\n",
       "        text-align: right;\n",
       "    }\n",
       "</style>\n",
       "<table border=\"1\" class=\"dataframe\">\n",
       "  <thead>\n",
       "    <tr style=\"text-align: right;\">\n",
       "      <th></th>\n",
       "      <th>Date</th>\n",
       "      <th>New Cases</th>\n",
       "      <th>New Deaths</th>\n",
       "      <th>Total Cases</th>\n",
       "      <th>Total Deaths</th>\n",
       "    </tr>\n",
       "  </thead>\n",
       "  <tbody>\n",
       "    <tr>\n",
       "      <th>0</th>\n",
       "      <td>2020-04-02</td>\n",
       "      <td>3</td>\n",
       "      <td>0</td>\n",
       "      <td>3</td>\n",
       "      <td>0</td>\n",
       "    </tr>\n",
       "    <tr>\n",
       "      <th>1</th>\n",
       "      <td>2020-04-03</td>\n",
       "      <td>1</td>\n",
       "      <td>0</td>\n",
       "      <td>4</td>\n",
       "      <td>0</td>\n",
       "    </tr>\n",
       "    <tr>\n",
       "      <th>2</th>\n",
       "      <td>2020-04-04</td>\n",
       "      <td>0</td>\n",
       "      <td>0</td>\n",
       "      <td>4</td>\n",
       "      <td>0</td>\n",
       "    </tr>\n",
       "  </tbody>\n",
       "</table>\n",
       "</div>"
      ],
      "text/plain": [
       "        Date  New Cases  New Deaths  Total Cases  Total Deaths\n",
       "0 2020-04-02          3           0            3             0\n",
       "1 2020-04-03          1           0            4             0\n",
       "2 2020-04-04          0           0            4             0"
      ]
     },
     "execution_count": 31,
     "metadata": {},
     "output_type": "execute_result"
    }
   ],
   "source": [
    "df = df[['Date', 'New Cases', 'New Deaths', 'Total Cases', 'Total Deaths']]\n",
    "df.head(3)"
   ]
  },
  {
   "cell_type": "code",
   "execution_count": 32,
   "metadata": {
    "hidden": true
   },
   "outputs": [],
   "source": [
    "df['New Cases'] = pd.to_numeric(df['New Cases'])\n",
    "df['New Deaths'] = pd.to_numeric(df['New Deaths'])"
   ]
  },
  {
   "cell_type": "code",
   "execution_count": 33,
   "metadata": {
    "hidden": true
   },
   "outputs": [
    {
     "data": {
      "text/html": [
       "\n",
       "<div id=\"altair-viz-ad4da9cb8f31452ca806f88ea01abf54\"></div>\n",
       "<script type=\"text/javascript\">\n",
       "  (function(spec, embedOpt){\n",
       "    let outputDiv = document.currentScript.previousElementSibling;\n",
       "    if (outputDiv.id !== \"altair-viz-ad4da9cb8f31452ca806f88ea01abf54\") {\n",
       "      outputDiv = document.getElementById(\"altair-viz-ad4da9cb8f31452ca806f88ea01abf54\");\n",
       "    }\n",
       "    const paths = {\n",
       "      \"vega\": \"https://cdn.jsdelivr.net/npm//vega@5?noext\",\n",
       "      \"vega-lib\": \"https://cdn.jsdelivr.net/npm//vega-lib?noext\",\n",
       "      \"vega-lite\": \"https://cdn.jsdelivr.net/npm//vega-lite@4.8.1?noext\",\n",
       "      \"vega-embed\": \"https://cdn.jsdelivr.net/npm//vega-embed@6?noext\",\n",
       "    };\n",
       "\n",
       "    function loadScript(lib) {\n",
       "      return new Promise(function(resolve, reject) {\n",
       "        var s = document.createElement('script');\n",
       "        s.src = paths[lib];\n",
       "        s.async = true;\n",
       "        s.onload = () => resolve(paths[lib]);\n",
       "        s.onerror = () => reject(`Error loading script: ${paths[lib]}`);\n",
       "        document.getElementsByTagName(\"head\")[0].appendChild(s);\n",
       "      });\n",
       "    }\n",
       "\n",
       "    function showError(err) {\n",
       "      outputDiv.innerHTML = `<div class=\"error\" style=\"color:red;\">${err}</div>`;\n",
       "      throw err;\n",
       "    }\n",
       "\n",
       "    function displayChart(vegaEmbed) {\n",
       "      vegaEmbed(outputDiv, spec, embedOpt)\n",
       "        .catch(err => showError(`Javascript Error: ${err.message}<br>This usually means there's a typo in your chart specification. See the javascript console for the full traceback.`));\n",
       "    }\n",
       "\n",
       "    if(typeof define === \"function\" && define.amd) {\n",
       "      requirejs.config({paths});\n",
       "      require([\"vega-embed\"], displayChart, err => showError(`Error loading script: ${err.message}`));\n",
       "    } else if (typeof vegaEmbed === \"function\") {\n",
       "      displayChart(vegaEmbed);\n",
       "    } else {\n",
       "      loadScript(\"vega\")\n",
       "        .then(() => loadScript(\"vega-lite\"))\n",
       "        .then(() => loadScript(\"vega-embed\"))\n",
       "        .catch(showError)\n",
       "        .then(() => displayChart(vegaEmbed));\n",
       "    }\n",
       "  })({\"config\": {\"view\": {\"continuousWidth\": 400, \"continuousHeight\": 300}}, \"hconcat\": [{\"mark\": \"bar\", \"encoding\": {\"x\": {\"type\": \"ordinal\", \"field\": \"Date\", \"timeUnit\": \"monthdate\"}, \"y\": {\"type\": \"quantitative\", \"field\": \"New Cases\"}}, \"height\": 200, \"title\": \"New confirmed\", \"width\": 420}, {\"mark\": \"bar\", \"encoding\": {\"color\": {\"value\": \"#f54242\"}, \"x\": {\"type\": \"ordinal\", \"field\": \"Date\", \"timeUnit\": \"monthdate\"}, \"y\": {\"type\": \"quantitative\", \"field\": \"New Deaths\"}}, \"height\": 200, \"title\": \"New deaths\", \"width\": 420}], \"data\": {\"name\": \"data-a9732ec8bcb93047bf551ccefbc8af27\"}, \"$schema\": \"https://vega.github.io/schema/vega-lite/v4.8.1.json\", \"datasets\": {\"data-a9732ec8bcb93047bf551ccefbc8af27\": [{\"Date\": \"2020-04-02T00:00:00\", \"New Cases\": 3, \"New Deaths\": 0, \"Total Cases\": 3, \"Total Deaths\": 0}, {\"Date\": \"2020-04-03T00:00:00\", \"New Cases\": 1, \"New Deaths\": 0, \"Total Cases\": 4, \"Total Deaths\": 0}, {\"Date\": \"2020-04-04T00:00:00\", \"New Cases\": 0, \"New Deaths\": 0, \"Total Cases\": 4, \"Total Deaths\": 0}, {\"Date\": \"2020-04-05T00:00:00\", \"New Cases\": 1, \"New Deaths\": 0, \"Total Cases\": 5, \"Total Deaths\": 0}, {\"Date\": \"2020-04-06T00:00:00\", \"New Cases\": 3, \"New Deaths\": 0, \"Total Cases\": 8, \"Total Deaths\": 0}, {\"Date\": \"2020-04-07T00:00:00\", \"New Cases\": 0, \"New Deaths\": 1, \"Total Cases\": 8, \"Total Deaths\": 1}, {\"Date\": \"2020-04-08T00:00:00\", \"New Cases\": 0, \"New Deaths\": 0, \"Total Cases\": 8, \"Total Deaths\": 1}, {\"Date\": \"2020-04-09T00:00:00\", \"New Cases\": 1, \"New Deaths\": 0, \"Total Cases\": 9, \"Total Deaths\": 1}, {\"Date\": \"2020-04-10T00:00:00\", \"New Cases\": 3, \"New Deaths\": 0, \"Total Cases\": 12, \"Total Deaths\": 1}, {\"Date\": \"2020-04-11T00:00:00\", \"New Cases\": 1, \"New Deaths\": 1, \"Total Cases\": 13, \"Total Deaths\": 2}, {\"Date\": \"2020-04-12T00:00:00\", \"New Cases\": 0, \"New Deaths\": 0, \"Total Cases\": 13, \"Total Deaths\": 2}, {\"Date\": \"2020-04-13T00:00:00\", \"New Cases\": 3, \"New Deaths\": 0, \"Total Cases\": 16, \"Total Deaths\": 2}, {\"Date\": \"2020-04-17T00:00:00\", \"New Cases\": 1, \"New Deaths\": 0, \"Total Cases\": 17, \"Total Deaths\": 2}, {\"Date\": \"2020-04-18T00:00:00\", \"New Cases\": 0, \"New Deaths\": 0, \"Total Cases\": 17, \"Total Deaths\": 2}, {\"Date\": \"2020-04-22T00:00:00\", \"New Cases\": 6, \"New Deaths\": 0, \"Total Cases\": 23, \"Total Deaths\": 2}, {\"Date\": \"2020-04-23T00:00:00\", \"New Cases\": 10, \"New Deaths\": 1, \"Total Cases\": 33, \"Total Deaths\": 3}, {\"Date\": \"2020-04-26T00:00:00\", \"New Cases\": 1, \"New Deaths\": 0, \"Total Cases\": 34, \"Total Deaths\": 3}, {\"Date\": \"2020-04-27T00:00:00\", \"New Cases\": 2, \"New Deaths\": 0, \"Total Cases\": 36, \"Total Deaths\": 3}, {\"Date\": \"2020-04-28T00:00:00\", \"New Cases\": 0, \"New Deaths\": 0, \"Total Cases\": 36, \"Total Deaths\": 3}, {\"Date\": \"2020-04-29T00:00:00\", \"New Cases\": 0, \"New Deaths\": 0, \"Total Cases\": 36, \"Total Deaths\": 3}, {\"Date\": \"2020-04-30T00:00:00\", \"New Cases\": 1, \"New Deaths\": 0, \"Total Cases\": 37, \"Total Deaths\": 3}, {\"Date\": \"2020-05-01T00:00:00\", \"New Cases\": 0, \"New Deaths\": 0, \"Total Cases\": 37, \"Total Deaths\": 3}, {\"Date\": \"2020-05-02T00:00:00\", \"New Cases\": 1, \"New Deaths\": 0, \"Total Cases\": 38, \"Total Deaths\": 3}, {\"Date\": \"2020-05-03T00:00:00\", \"New Cases\": 1, \"New Deaths\": 0, \"Total Cases\": 39, \"Total Deaths\": 3}, {\"Date\": \"2020-05-04T00:00:00\", \"New Cases\": 2, \"New Deaths\": 0, \"Total Cases\": 41, \"Total Deaths\": 3}, {\"Date\": \"2020-05-05T00:00:00\", \"New Cases\": 0, \"New Deaths\": 0, \"Total Cases\": 41, \"Total Deaths\": 3}, {\"Date\": \"2020-05-06T00:00:00\", \"New Cases\": 2, \"New Deaths\": 0, \"Total Cases\": 43, \"Total Deaths\": 3}, {\"Date\": \"2020-05-07T00:00:00\", \"New Cases\": 0, \"New Deaths\": 0, \"Total Cases\": 43, \"Total Deaths\": 3}, {\"Date\": \"2020-05-08T00:00:00\", \"New Cases\": 0, \"New Deaths\": 0, \"Total Cases\": 43, \"Total Deaths\": 3}, {\"Date\": \"2020-05-09T00:00:00\", \"New Cases\": 13, \"New Deaths\": 0, \"Total Cases\": 56, \"Total Deaths\": 3}, {\"Date\": \"2020-05-10T00:00:00\", \"New Cases\": 0, \"New Deaths\": 0, \"Total Cases\": 56, \"Total Deaths\": 3}, {\"Date\": \"2020-05-11T00:00:00\", \"New Cases\": 1, \"New Deaths\": 0, \"Total Cases\": 57, \"Total Deaths\": 3}, {\"Date\": \"2020-05-12T00:00:00\", \"New Cases\": 0, \"New Deaths\": 0, \"Total Cases\": 57, \"Total Deaths\": 3}, {\"Date\": \"2020-05-13T00:00:00\", \"New Cases\": 6, \"New Deaths\": 0, \"Total Cases\": 63, \"Total Deaths\": 3}, {\"Date\": \"2020-05-17T00:00:00\", \"New Cases\": 7, \"New Deaths\": 0, \"Total Cases\": 70, \"Total Deaths\": 3}, {\"Date\": \"2020-05-20T00:00:00\", \"New Cases\": 1, \"New Deaths\": 0, \"Total Cases\": 71, \"Total Deaths\": 3}, {\"Date\": \"2020-05-21T00:00:00\", \"New Cases\": 1, \"New Deaths\": 0, \"Total Cases\": 72, \"Total Deaths\": 3}, {\"Date\": \"2020-05-22T00:00:00\", \"New Cases\": 10, \"New Deaths\": 0, \"Total Cases\": 82, \"Total Deaths\": 3}, {\"Date\": \"2020-05-23T00:00:00\", \"New Cases\": 0, \"New Deaths\": 0, \"Total Cases\": 82, \"Total Deaths\": 3}, {\"Date\": \"2020-05-24T00:00:00\", \"New Cases\": 1, \"New Deaths\": 1, \"Total Cases\": 83, \"Total Deaths\": 4}, {\"Date\": \"2020-05-25T00:00:00\", \"New Cases\": 18, \"New Deaths\": 0, \"Total Cases\": 101, \"Total Deaths\": 4}, {\"Date\": \"2020-05-26T00:00:00\", \"New Cases\": 0, \"New Deaths\": 0, \"Total Cases\": 101, \"Total Deaths\": 4}, {\"Date\": \"2020-05-27T00:00:00\", \"New Cases\": 0, \"New Deaths\": 0, \"Total Cases\": 101, \"Total Deaths\": 4}, {\"Date\": \"2020-05-28T00:00:00\", \"New Cases\": 102, \"New Deaths\": 0, \"Total Cases\": 203, \"Total Deaths\": 4}, {\"Date\": \"2020-05-29T00:00:00\", \"New Cases\": 70, \"New Deaths\": 0, \"Total Cases\": 273, \"Total Deaths\": 4}, {\"Date\": \"2020-05-30T00:00:00\", \"New Cases\": 6, \"New Deaths\": 0, \"Total Cases\": 279, \"Total Deaths\": 4}, {\"Date\": \"2020-05-31T00:00:00\", \"New Cases\": 5, \"New Deaths\": 0, \"Total Cases\": 284, \"Total Deaths\": 4}, {\"Date\": \"2020-06-01T00:00:00\", \"New Cases\": 52, \"New Deaths\": 0, \"Total Cases\": 336, \"Total Deaths\": 4}, {\"Date\": \"2020-06-02T00:00:00\", \"New Cases\": 22, \"New Deaths\": 0, \"Total Cases\": 358, \"Total Deaths\": 4}, {\"Date\": \"2020-06-03T00:00:00\", \"New Cases\": 11, \"New Deaths\": 0, \"Total Cases\": 369, \"Total Deaths\": 4}, {\"Date\": \"2020-06-04T00:00:00\", \"New Cases\": 24, \"New Deaths\": 0, \"Total Cases\": 393, \"Total Deaths\": 4}, {\"Date\": \"2020-06-05T00:00:00\", \"New Cases\": 16, \"New Deaths\": 0, \"Total Cases\": 409, \"Total Deaths\": 4}, {\"Date\": \"2020-06-06T00:00:00\", \"New Cases\": 0, \"New Deaths\": 0, \"Total Cases\": 409, \"Total Deaths\": 4}, {\"Date\": \"2020-06-07T00:00:00\", \"New Cases\": 29, \"New Deaths\": 0, \"Total Cases\": 438, \"Total Deaths\": 4}, {\"Date\": \"2020-06-08T00:00:00\", \"New Cases\": 0, \"New Deaths\": 0, \"Total Cases\": 438, \"Total Deaths\": 4}, {\"Date\": \"2020-06-09T00:00:00\", \"New Cases\": 5, \"New Deaths\": 0, \"Total Cases\": 443, \"Total Deaths\": 4}, {\"Date\": \"2020-06-10T00:00:00\", \"New Cases\": 12, \"New Deaths\": 0, \"Total Cases\": 455, \"Total Deaths\": 4}, {\"Date\": \"2020-06-11T00:00:00\", \"New Cases\": 26, \"New Deaths\": 0, \"Total Cases\": 481, \"Total Deaths\": 4}, {\"Date\": \"2020-06-12T00:00:00\", \"New Cases\": 0, \"New Deaths\": 0, \"Total Cases\": 481, \"Total Deaths\": 4}, {\"Date\": \"2020-06-13T00:00:00\", \"New Cases\": 48, \"New Deaths\": 1, \"Total Cases\": 529, \"Total Deaths\": 5}, {\"Date\": \"2020-06-14T00:00:00\", \"New Cases\": 18, \"New Deaths\": 1, \"Total Cases\": 547, \"Total Deaths\": 6}, {\"Date\": \"2020-06-15T00:00:00\", \"New Cases\": 8, \"New Deaths\": 0, \"Total Cases\": 555, \"Total Deaths\": 6}, {\"Date\": \"2020-06-16T00:00:00\", \"New Cases\": 9, \"New Deaths\": 0, \"Total Cases\": 564, \"Total Deaths\": 6}, {\"Date\": \"2020-06-17T00:00:00\", \"New Cases\": 8, \"New Deaths\": 0, \"Total Cases\": 572, \"Total Deaths\": 6}, {\"Date\": \"2020-06-18T00:00:00\", \"New Cases\": 20, \"New Deaths\": 2, \"Total Cases\": 592, \"Total Deaths\": 8}, {\"Date\": \"2020-06-19T00:00:00\", \"New Cases\": 28, \"New Deaths\": 0, \"Total Cases\": 620, \"Total Deaths\": 8}, {\"Date\": \"2020-06-20T00:00:00\", \"New Cases\": 110, \"New Deaths\": 3, \"Total Cases\": 730, \"Total Deaths\": 11}, {\"Date\": \"2020-06-21T00:00:00\", \"New Cases\": 19, \"New Deaths\": 0, \"Total Cases\": 749, \"Total Deaths\": 11}, {\"Date\": \"2020-06-22T00:00:00\", \"New Cases\": 54, \"New Deaths\": 0, \"Total Cases\": 803, \"Total Deaths\": 11}, {\"Date\": \"2020-06-23T00:00:00\", \"New Cases\": 45, \"New Deaths\": 0, \"Total Cases\": 848, \"Total Deaths\": 11}, {\"Date\": \"2020-06-24T00:00:00\", \"New Cases\": 93, \"New Deaths\": 0, \"Total Cases\": 941, \"Total Deaths\": 11}, {\"Date\": \"2020-06-25T00:00:00\", \"New Cases\": 19, \"New Deaths\": 1, \"Total Cases\": 960, \"Total Deaths\": 12}, {\"Date\": \"2020-06-26T00:00:00\", \"New Cases\": 45, \"New Deaths\": 1, \"Total Cases\": 1005, \"Total Deaths\": 13}, {\"Date\": \"2020-06-27T00:00:00\", \"New Cases\": 33, \"New Deaths\": 0, \"Total Cases\": 1038, \"Total Deaths\": 13}, {\"Date\": \"2020-06-28T00:00:00\", \"New Cases\": 114, \"New Deaths\": 0, \"Total Cases\": 1152, \"Total Deaths\": 13}, {\"Date\": \"2020-06-29T00:00:00\", \"New Cases\": 72, \"New Deaths\": 0, \"Total Cases\": 1224, \"Total Deaths\": 13}, {\"Date\": \"2020-06-30T00:00:00\", \"New Cases\": 41, \"New Deaths\": 3, \"Total Cases\": 1265, \"Total Deaths\": 16}, {\"Date\": \"2020-07-01T00:00:00\", \"New Cases\": 77, \"New Deaths\": 0, \"Total Cases\": 1342, \"Total Deaths\": 16}, {\"Date\": \"2020-07-02T00:00:00\", \"New Cases\": 60, \"New Deaths\": 0, \"Total Cases\": 1402, \"Total Deaths\": 16}, {\"Date\": \"2020-07-03T00:00:00\", \"New Cases\": 96, \"New Deaths\": 0, \"Total Cases\": 1498, \"Total Deaths\": 16}, {\"Date\": \"2020-07-04T00:00:00\", \"New Cases\": 115, \"New Deaths\": 1, \"Total Cases\": 1613, \"Total Deaths\": 17}, {\"Date\": \"2020-07-05T00:00:00\", \"New Cases\": 129, \"New Deaths\": 2, \"Total Cases\": 1742, \"Total Deaths\": 19}, {\"Date\": \"2020-07-06T00:00:00\", \"New Cases\": 76, \"New Deaths\": 0, \"Total Cases\": 1818, \"Total Deaths\": 19}, {\"Date\": \"2020-07-07T00:00:00\", \"New Cases\": 46, \"New Deaths\": 0, \"Total Cases\": 1864, \"Total Deaths\": 19}, {\"Date\": \"2020-07-08T00:00:00\", \"New Cases\": 76, \"New Deaths\": 0, \"Total Cases\": 1940, \"Total Deaths\": 19}, {\"Date\": \"2020-07-09T00:00:00\", \"New Cases\": 46, \"New Deaths\": 0, \"Total Cases\": 1986, \"Total Deaths\": 19}, {\"Date\": \"2020-07-10T00:00:00\", \"New Cases\": 83, \"New Deaths\": 12, \"Total Cases\": 2069, \"Total Deaths\": 31}, {\"Date\": \"2020-07-11T00:00:00\", \"New Cases\": 192, \"New Deaths\": 2, \"Total Cases\": 2261, \"Total Deaths\": 33}, {\"Date\": \"2020-07-12T00:00:00\", \"New Cases\": 103, \"New Deaths\": 5, \"Total Cases\": 2364, \"Total Deaths\": 38}, {\"Date\": \"2020-07-13T00:00:00\", \"New Cases\": 66, \"New Deaths\": 1, \"Total Cases\": 2430, \"Total Deaths\": 39}, {\"Date\": \"2020-07-14T00:00:00\", \"New Cases\": 67, \"New Deaths\": 1, \"Total Cases\": 2497, \"Total Deaths\": 40}, {\"Date\": \"2020-07-15T00:00:00\", \"New Cases\": 113, \"New Deaths\": 0, \"Total Cases\": 2610, \"Total Deaths\": 40}, {\"Date\": \"2020-07-16T00:00:00\", \"New Cases\": 102, \"New Deaths\": 11, \"Total Cases\": 2712, \"Total Deaths\": 51}, {\"Date\": \"2020-07-17T00:00:00\", \"New Cases\": 98, \"New Deaths\": 4, \"Total Cases\": 2810, \"Total Deaths\": 55}, {\"Date\": \"2020-07-18T00:00:00\", \"New Cases\": 97, \"New Deaths\": 4, \"Total Cases\": 2907, \"Total Deaths\": 59}, {\"Date\": \"2020-07-19T00:00:00\", \"New Cases\": 85, \"New Deaths\": 4, \"Total Cases\": 2992, \"Total Deaths\": 63}, {\"Date\": \"2020-07-20T00:00:00\", \"New Cases\": 53, \"New Deaths\": 4, \"Total Cases\": 3045, \"Total Deaths\": 67}, {\"Date\": \"2020-07-21T00:00:00\", \"New Cases\": 104, \"New Deaths\": 4, \"Total Cases\": 3149, \"Total Deaths\": 71}, {\"Date\": \"2020-07-22T00:00:00\", \"New Cases\": 153, \"New Deaths\": 5, \"Total Cases\": 3302, \"Total Deaths\": 76}, {\"Date\": \"2020-07-23T00:00:00\", \"New Cases\": 84, \"New Deaths\": 8, \"Total Cases\": 3386, \"Total Deaths\": 84}, {\"Date\": \"2020-07-24T00:00:00\", \"New Cases\": 67, \"New Deaths\": 2, \"Total Cases\": 3453, \"Total Deaths\": 86}, {\"Date\": \"2020-07-25T00:00:00\", \"New Cases\": 104, \"New Deaths\": 8, \"Total Cases\": 3557, \"Total Deaths\": 94}, {\"Date\": \"2020-07-26T00:00:00\", \"New Cases\": 83, \"New Deaths\": 5, \"Total Cases\": 3640, \"Total Deaths\": 99}, {\"Date\": \"2020-07-27T00:00:00\", \"New Cases\": 69, \"New Deaths\": 4, \"Total Cases\": 3709, \"Total Deaths\": 103}, {\"Date\": \"2020-07-28T00:00:00\", \"New Cases\": 29, \"New Deaths\": 0, \"Total Cases\": 3738, \"Total Deaths\": 103}, {\"Date\": \"2020-07-29T00:00:00\", \"New Cases\": 120, \"New Deaths\": 4, \"Total Cases\": 3858, \"Total Deaths\": 107}, {\"Date\": \"2020-07-30T00:00:00\", \"New Cases\": 123, \"New Deaths\": 2, \"Total Cases\": 3981, \"Total Deaths\": 109}, {\"Date\": \"2020-07-31T00:00:00\", \"New Cases\": 97, \"New Deaths\": 5, \"Total Cases\": 4078, \"Total Deaths\": 114}, {\"Date\": \"2020-08-01T00:00:00\", \"New Cases\": 108, \"New Deaths\": 6, \"Total Cases\": 4186, \"Total Deaths\": 120}, {\"Date\": \"2020-08-02T00:00:00\", \"New Cases\": 45, \"New Deaths\": 3, \"Total Cases\": 4231, \"Total Deaths\": 123}, {\"Date\": \"2020-08-03T00:00:00\", \"New Cases\": 42, \"New Deaths\": 0, \"Total Cases\": 4273, \"Total Deaths\": 123}, {\"Date\": \"2020-08-04T00:00:00\", \"New Cases\": 74, \"New Deaths\": 5, \"Total Cases\": 4347, \"Total Deaths\": 128}, {\"Date\": \"2020-08-05T00:00:00\", \"New Cases\": 79, \"New Deaths\": 8, \"Total Cases\": 4426, \"Total Deaths\": 136}, {\"Date\": \"2020-08-06T00:00:00\", \"New Cases\": 65, \"New Deaths\": 1, \"Total Cases\": 4491, \"Total Deaths\": 137}, {\"Date\": \"2020-08-07T00:00:00\", \"New Cases\": 84, \"New Deaths\": 0, \"Total Cases\": 4575, \"Total Deaths\": 137}, {\"Date\": \"2020-08-08T00:00:00\", \"New Cases\": 49, \"New Deaths\": 6, \"Total Cases\": 4624, \"Total Deaths\": 143}, {\"Date\": \"2020-08-09T00:00:00\", \"New Cases\": 34, \"New Deaths\": 3, \"Total Cases\": 4658, \"Total Deaths\": 146}, {\"Date\": \"2020-08-10T00:00:00\", \"New Cases\": 16, \"New Deaths\": 0, \"Total Cases\": 4674, \"Total Deaths\": 146}, {\"Date\": \"2020-08-11T00:00:00\", \"New Cases\": 40, \"New Deaths\": 6, \"Total Cases\": 4714, \"Total Deaths\": 152}, {\"Date\": \"2020-08-12T00:00:00\", \"New Cases\": 38, \"New Deaths\": 0, \"Total Cases\": 4752, \"Total Deaths\": 152}]}}, {\"mode\": \"vega-lite\"});\n",
       "</script>"
      ],
      "text/plain": [
       "alt.HConcatChart(...)"
      ]
     },
     "execution_count": 33,
     "metadata": {},
     "output_type": "execute_result"
    }
   ],
   "source": [
    "base = alt.Chart(df[:120]).mark_bar().encode(\n",
    "    x='monthdate(Date):O',\n",
    ").properties(\n",
    "    width=420,\n",
    "    height=200\n",
    ")\n",
    "\n",
    "base.encode(y='New Cases').properties(title='New confirmed') | base.encode(color=red, y='New Deaths').properties(title='New deaths')"
   ]
  },
  {
   "cell_type": "markdown",
   "metadata": {
    "heading_collapsed": true,
    "hidden": true
   },
   "source": [
    "### Step 6: Saving to file"
   ]
  },
  {
   "cell_type": "markdown",
   "metadata": {
    "hidden": true
   },
   "source": [
    "Finally, we can save the dataframe into a new dataset."
   ]
  },
  {
   "cell_type": "code",
   "execution_count": null,
   "metadata": {
    "hidden": true
   },
   "outputs": [],
   "source": [
    "df.to_csv('malawi_covid_data.csv')"
   ]
  },
  {
   "cell_type": "markdown",
   "metadata": {
    "hidden": true
   },
   "source": [
    "La fin."
   ]
  }
 ],
 "metadata": {
  "kernelspec": {
   "display_name": "Python 3",
   "language": "python",
   "name": "python3"
  },
  "language_info": {
   "codemirror_mode": {
    "name": "ipython",
    "version": 3
   },
   "file_extension": ".py",
   "mimetype": "text/x-python",
   "name": "python",
   "nbconvert_exporter": "python",
   "pygments_lexer": "ipython3",
   "version": "3.8.10"
  },
  "toc": {
   "base_numbering": 1,
   "nav_menu": {},
   "number_sections": true,
   "sideBar": true,
   "skip_h1_title": false,
   "title_cell": "Table of Contents",
   "title_sidebar": "Contents",
   "toc_cell": false,
   "toc_position": {},
   "toc_section_display": true,
   "toc_window_display": false
  }
 },
 "nbformat": 4,
 "nbformat_minor": 4
}
