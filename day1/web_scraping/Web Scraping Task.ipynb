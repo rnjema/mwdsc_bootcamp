{
 "cells": [
  {
   "cell_type": "code",
   "execution_count": 3,
   "metadata": {},
   "outputs": [],
   "source": [
    "from bs4 import BeautifulSoup\n",
    "import requests"
   ]
  },
  {
   "cell_type": "code",
   "execution_count": 2,
   "metadata": {},
   "outputs": [],
   "source": [
    "BASE_URL = \"https://hec.ac.mw/scholarships\""
   ]
  },
  {
   "cell_type": "code",
   "execution_count": 101,
   "metadata": {},
   "outputs": [],
   "source": [
    "soups = []\n",
    "for i in range(1,8):\n",
    "    with requests.Session() as session:\n",
    "        response = session.get(f\"{BASE_URL}/{i}\")\n",
    "        if response.status_code == 200:\n",
    "            soup = BeautifulSoup(response.content, 'html5lib')\n",
    "            soups.append(soup)\n",
    "        else:\n",
    "            print(\"Something occurred!\")"
   ]
  },
  {
   "cell_type": "code",
   "execution_count": 103,
   "metadata": {},
   "outputs": [],
   "source": [
    "seven_pages = [soup.find_all('div',class_='scholar-content-box') for soup in soups]"
   ]
  },
  {
   "cell_type": "code",
   "execution_count": 102,
   "metadata": {},
   "outputs": [],
   "source": [
    "scholarships = []"
   ]
  },
  {
   "cell_type": "code",
   "execution_count": 105,
   "metadata": {},
   "outputs": [],
   "source": [
    "for page in seven_pages:\n",
    "    for item in page:\n",
    "        title = item.find('h4',class_='scholarship-title').text.split(\"\\n\")[1].lstrip(\" \")\n",
    "        date_posted = item.find('p',class_='scholar-meta').text.split('on')[1].split('by')[0].strip(\" \")\n",
    "        date_closes = item.find_all('p')[-1].text.split('\\n')[1].strip(\" \").split(\"Closes\")[-1].strip(\" \")\n",
    "\n",
    "        scholarship = {'Title': title, 'Posted' : date_posted, 'Closes' : date_closes}\n",
    "\n",
    "        scholarships.append(scholarship)\n"
   ]
  },
  {
   "cell_type": "code",
   "execution_count": null,
   "metadata": {},
   "outputs": [],
   "source": [
    "scholarships"
   ]
  },
  {
   "cell_type": "code",
   "execution_count": 108,
   "metadata": {},
   "outputs": [],
   "source": [
    "import pandas as pd"
   ]
  },
  {
   "cell_type": "code",
   "execution_count": 109,
   "metadata": {},
   "outputs": [],
   "source": [
    "df = pd.DataFrame(scholarships)"
   ]
  },
  {
   "cell_type": "code",
   "execution_count": 110,
   "metadata": {},
   "outputs": [
    {
     "data": {
      "text/html": [
       "<div>\n",
       "<style scoped>\n",
       "    .dataframe tbody tr th:only-of-type {\n",
       "        vertical-align: middle;\n",
       "    }\n",
       "\n",
       "    .dataframe tbody tr th {\n",
       "        vertical-align: top;\n",
       "    }\n",
       "\n",
       "    .dataframe thead th {\n",
       "        text-align: right;\n",
       "    }\n",
       "</style>\n",
       "<table border=\"1\" class=\"dataframe\">\n",
       "  <thead>\n",
       "    <tr style=\"text-align: right;\">\n",
       "      <th></th>\n",
       "      <th>Title</th>\n",
       "      <th>Posted</th>\n",
       "      <th>Closes</th>\n",
       "    </tr>\n",
       "  </thead>\n",
       "  <tbody>\n",
       "    <tr>\n",
       "      <th>0</th>\n",
       "      <td>Malawi Wellcome Trust Pre-MSC and Pre-PhD Inte...</td>\n",
       "      <td>18 October 2021</td>\n",
       "      <td>01 November 2021</td>\n",
       "    </tr>\n",
       "    <tr>\n",
       "      <th>1</th>\n",
       "      <td>University of Oslo NORAD’s NORHED II  PhD and ...</td>\n",
       "      <td>13 October 2021</td>\n",
       "      <td>05 November 2021</td>\n",
       "    </tr>\n",
       "    <tr>\n",
       "      <th>2</th>\n",
       "      <td>Nutrition 4 Health Activity Scholarship Opport...</td>\n",
       "      <td>22 September 2021</td>\n",
       "      <td>04 October 2021</td>\n",
       "    </tr>\n",
       "    <tr>\n",
       "      <th>3</th>\n",
       "      <td>The Global Learning Scholarship Program (GLSP)</td>\n",
       "      <td>15 September 2021</td>\n",
       "      <td>16 December 2021</td>\n",
       "    </tr>\n",
       "    <tr>\n",
       "      <th>4</th>\n",
       "      <td>The Schlumberger Foundation Faculty for the Fu...</td>\n",
       "      <td>25 August 2021</td>\n",
       "      <td>05 November 2021</td>\n",
       "    </tr>\n",
       "    <tr>\n",
       "      <th>5</th>\n",
       "      <td>Kalinga Institute of Industrial Technology (KI...</td>\n",
       "      <td>11 August 2021</td>\n",
       "      <td>15 August 2021</td>\n",
       "    </tr>\n",
       "    <tr>\n",
       "      <th>6</th>\n",
       "      <td>African Scientific, Research and Innovation Co...</td>\n",
       "      <td>10 August 2021</td>\n",
       "      <td>31 July 2021</td>\n",
       "    </tr>\n",
       "    <tr>\n",
       "      <th>7</th>\n",
       "      <td>The Ashinaga African Initiative 2022</td>\n",
       "      <td>10 August 2021</td>\n",
       "      <td>28 January 2022</td>\n",
       "    </tr>\n",
       "    <tr>\n",
       "      <th>8</th>\n",
       "      <td>PhD and Postdoc Positions in Machine Learning ...</td>\n",
       "      <td>14 July 2021</td>\n",
       "      <td>23 August 2021</td>\n",
       "    </tr>\n",
       "    <tr>\n",
       "      <th>9</th>\n",
       "      <td>The Moroccan Scholarships for African Youth 20...</td>\n",
       "      <td>18 June 2021</td>\n",
       "      <td>27 June 2021</td>\n",
       "    </tr>\n",
       "  </tbody>\n",
       "</table>\n",
       "</div>"
      ],
      "text/plain": [
       "                                               Title             Posted  \\\n",
       "0  Malawi Wellcome Trust Pre-MSC and Pre-PhD Inte...    18 October 2021   \n",
       "1  University of Oslo NORAD’s NORHED II  PhD and ...    13 October 2021   \n",
       "2  Nutrition 4 Health Activity Scholarship Opport...  22 September 2021   \n",
       "3     The Global Learning Scholarship Program (GLSP)  15 September 2021   \n",
       "4  The Schlumberger Foundation Faculty for the Fu...     25 August 2021   \n",
       "5  Kalinga Institute of Industrial Technology (KI...     11 August 2021   \n",
       "6  African Scientific, Research and Innovation Co...     10 August 2021   \n",
       "7               The Ashinaga African Initiative 2022     10 August 2021   \n",
       "8  PhD and Postdoc Positions in Machine Learning ...       14 July 2021   \n",
       "9  The Moroccan Scholarships for African Youth 20...       18 June 2021   \n",
       "\n",
       "             Closes  \n",
       "0  01 November 2021  \n",
       "1  05 November 2021  \n",
       "2   04 October 2021  \n",
       "3  16 December 2021  \n",
       "4  05 November 2021  \n",
       "5    15 August 2021  \n",
       "6      31 July 2021  \n",
       "7   28 January 2022  \n",
       "8    23 August 2021  \n",
       "9      27 June 2021  "
      ]
     },
     "execution_count": 110,
     "metadata": {},
     "output_type": "execute_result"
    }
   ],
   "source": [
    "df.head(10)"
   ]
  },
  {
   "cell_type": "code",
   "execution_count": 112,
   "metadata": {},
   "outputs": [],
   "source": [
    "df.to_csv('scholarships_parsed_x_rnjema.csv',index=False)"
   ]
  },
  {
   "cell_type": "code",
   "execution_count": null,
   "metadata": {},
   "outputs": [],
   "source": []
  }
 ],
 "metadata": {
  "kernelspec": {
   "display_name": "Python 3",
   "language": "python",
   "name": "python3"
  },
  "language_info": {
   "codemirror_mode": {
    "name": "ipython",
    "version": 3
   },
   "file_extension": ".py",
   "mimetype": "text/x-python",
   "name": "python",
   "nbconvert_exporter": "python",
   "pygments_lexer": "ipython3",
   "version": "3.8.10"
  }
 },
 "nbformat": 4,
 "nbformat_minor": 4
}
